{
 "cells": [
  {
   "cell_type": "code",
   "execution_count": null,
   "metadata": {
    "_cell_guid": "b1076dfc-b9ad-4769-8c92-a6c4dae69d19",
    "_uuid": "8f2839f25d086af736a60e9eeb907d3b93b6e0e5",
    "execution": {
     "iopub.execute_input": "2025-07-22T23:30:50.601282Z",
     "iopub.status.busy": "2025-07-22T23:30:50.601040Z",
     "iopub.status.idle": "2025-07-22T23:30:50.607207Z",
     "shell.execute_reply": "2025-07-22T23:30:50.606625Z",
     "shell.execute_reply.started": "2025-07-22T23:30:50.601251Z"
    },
    "trusted": true
   },
   "outputs": [],
   "source": [
    "# ─── Configure your Reddit API credentials here ───\n",
    "import os\n",
    "os.environ[\"REDDIT_CLIENT_ID\"]     = \"\"  # your client ID\n",
    "os.environ[\"REDDIT_CLIENT_SECRET\"] = \"\"  # your client secret\n"
   ]
  },
  {
   "cell_type": "code",
   "execution_count": null,
   "metadata": {
    "execution": {
     "iopub.execute_input": "2025-07-22T23:31:46.230677Z",
     "iopub.status.busy": "2025-07-22T23:31:46.230347Z",
     "iopub.status.idle": "2025-07-22T23:31:46.755949Z",
     "shell.execute_reply": "2025-07-22T23:31:46.755259Z",
     "shell.execute_reply.started": "2025-07-22T23:31:46.230649Z"
    },
    "trusted": true
   },
   "outputs": [],
   "source": [
    "import os\n",
    "\n",
    "project_dir = \"/kaggle/working/sportsoracle\"\n",
    "\n",
    "if not os.path.exists(project_dir):\n",
    "    !git clone https://github.com/robdreamville/sportsoracle.git\n",
    "else:\n",
    "    # Change to the directory first\n",
    "    %cd /kaggle/working/sportsoracle\n",
    "    !git pull origin main"
   ]
  },
  {
   "cell_type": "code",
   "execution_count": null,
   "metadata": {
    "collapsed": true,
    "execution": {
     "iopub.execute_input": "2025-07-22T23:31:48.982388Z",
     "iopub.status.busy": "2025-07-22T23:31:48.981711Z",
     "iopub.status.idle": "2025-07-22T23:33:12.450103Z",
     "shell.execute_reply": "2025-07-22T23:33:12.449362Z",
     "shell.execute_reply.started": "2025-07-22T23:31:48.982352Z"
    },
    "jupyter": {
     "outputs_hidden": true
    },
    "trusted": true
   },
   "outputs": [],
   "source": [
    "!pip install -r /kaggle/working/sportsoracle/requirements.txt\n"
   ]
  },
  {
   "cell_type": "code",
   "execution_count": null,
   "metadata": {
    "execution": {
     "iopub.execute_input": "2025-07-22T23:34:43.454401Z",
     "iopub.status.busy": "2025-07-22T23:34:43.454148Z",
     "iopub.status.idle": "2025-07-22T23:41:18.714038Z",
     "shell.execute_reply": "2025-07-22T23:41:18.713304Z",
     "shell.execute_reply.started": "2025-07-22T23:34:43.454384Z"
    },
    "trusted": true
   },
   "outputs": [],
   "source": [
    "# ▶️ 4.  Run the entire pipeline (scrape ➜ embed ➜ cluster ➜ summarize )\n",
    "\n",
    "!time python /kaggle/working/sportsoracle/main.py"
   ]
  }
 ],
 "metadata": {
  "kaggle": {
   "accelerator": "gpu",
   "dataSources": [],
   "dockerImageVersionId": 31090,
   "isGpuEnabled": true,
   "isInternetEnabled": true,
   "language": "python",
   "sourceType": "notebook"
  },
  "kernelspec": {
   "display_name": "Python 3",
   "language": "python",
   "name": "python3"
  },
  "language_info": {
   "codemirror_mode": {
    "name": "ipython",
    "version": 3
   },
   "file_extension": ".py",
   "mimetype": "text/x-python",
   "name": "python",
   "nbconvert_exporter": "python",
   "pygments_lexer": "ipython3",
   "version": "3.11.13"
  }
 },
 "nbformat": 4,
 "nbformat_minor": 4
}
